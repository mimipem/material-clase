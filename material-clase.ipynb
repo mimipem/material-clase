{
  "cells": [
    {
      "cell_type": "code",
      "execution_count": null,
      "metadata": {
        "id": "dkTYPtsFsTP3"
      },
      "outputs": [],
      "source": [
        "class Persona:\n",
        "    def __init__(self, nombre, edad):\n",
        "        self._nombre = nombre  # Atributo privado\n",
        "        self._edad = edad  # Atributo privado\n",
        "\n",
        "    # Propiedad para obtener el nombre\n",
        "    @property\n",
        "    def nombre(self):\n",
        "        return self._nombre\n",
        "\n",
        "    # Propiedad para obtener y modificar la edad\n",
        "    @property\n",
        "    def edad(self):\n",
        "        return self._edad\n",
        "\n",
        "    @edad.setter\n",
        "    def edad(self, nueva_edad):\n",
        "        if nueva_edad > 0:\n",
        "            self._edad = nueva_edad\n",
        "        else:\n",
        "            print(\"La edad debe ser un número positivo.\")\n",
        "\n",
        "    # Método para saludar\n",
        "    def saludar(self):\n",
        "        print(f\"Hola, soy {self._nombre} y tengo {self._edad} años.\")\n",
        "\n",
        "# Crear una instancia de la clase Persona\n",
        "persona1 = Persona(nombre=\"Juan\", edad=25)\n",
        "\n",
        "# Utilizar el método saludar\n",
        "persona1.saludar()\n",
        "\n",
        "# Acceder a la propiedad nombre\n",
        "print(f\"Nombre: {persona1.nombre}\")\n",
        "\n",
        "# Acceder a la propiedad edad\n",
        "print(f\"Edad: {persona1.edad}\")\n",
        "\n",
        "# Modificar la edad utilizando la propiedad edad\n",
        "persona1.edad = 26\n",
        "\n",
        "# Mostrar la nueva edad\n",
        "print(f\"Nueva Edad: {persona1.edad}\")\n"
      ]
    }
  ],
  "metadata": {
    "colab": {
      "provenance": []
    },
    "kernelspec": {
      "display_name": "Python 3",
      "name": "python3"
    }
  },
  "nbformat": 4,
  "nbformat_minor": 0
}
